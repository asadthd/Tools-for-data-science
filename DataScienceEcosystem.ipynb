{
 "cells": [
  {
   "cell_type": "markdown",
   "id": "4c8fcf36",
   "metadata": {},
   "source": [
    "# Data science Tools and Ecosystem"
   ]
  },
  {
   "cell_type": "markdown",
   "id": "6f71f355",
   "metadata": {},
   "source": [
    "Data science tools and summary are mentioned in this notebook"
   ]
  },
  {
   "cell_type": "markdown",
   "id": "bdb29246",
   "metadata": {},
   "source": [
    "# Objectives:\n",
    "\n",
    "Languages used in data science\n",
    "Tools used in data science\n",
    "what is data science"
   ]
  },
  {
   "cell_type": "markdown",
   "id": "ab4a2a4a",
   "metadata": {},
   "source": [
    "Some of the popular languages that Data Scientists use are:\n",
    "    1. Python\n",
    "    2. R\n",
    "    3. SQL"
   ]
  },
  {
   "cell_type": "markdown",
   "id": "75fac36e",
   "metadata": {},
   "source": [
    "Some of the commonly used libraries used by Data Scientists include:\n",
    "    1. Numpy\n",
    "    2. Pandas\n",
    "    3. matplotlib"
   ]
  },
  {
   "cell_type": "markdown",
   "id": "d528f05f",
   "metadata": {},
   "source": [
    "Data Science Tools:\n",
    "    1. RStudio\n",
    "    2. Jupyter notebook\n",
    "    3. GitHub"
   ]
  },
  {
   "cell_type": "markdown",
   "id": "63e99344",
   "metadata": {},
   "source": [
    "### Below are a few examples of evaluating arithmetic expressions in Python\n",
    "1 + 2 = 3"
   ]
  },
  {
   "cell_type": "code",
   "execution_count": 1,
   "id": "42cfe3b7",
   "metadata": {},
   "outputs": [
    {
     "data": {
      "text/plain": [
       "17"
      ]
     },
     "execution_count": 1,
     "metadata": {},
     "output_type": "execute_result"
    }
   ],
   "source": [
    "# This a simple arithmetic expression to mutiply then add integers\n",
    "(3*4)+5"
   ]
  },
  {
   "cell_type": "code",
   "execution_count": 5,
   "id": "dc45020c",
   "metadata": {},
   "outputs": [
    {
     "name": "stdout",
     "output_type": "stream",
     "text": [
      "3.3333333333333335\n"
     ]
    }
   ],
   "source": [
    "# This will convert 200 minutes to hours by diving by 60\n",
    "minutes = 200\n",
    "hours = minutes / 60\n",
    "print(hours)"
   ]
  },
  {
   "cell_type": "markdown",
   "id": "d4344636",
   "metadata": {},
   "source": [
    "## Author \n",
    "Asad"
   ]
  },
  {
   "cell_type": "code",
   "execution_count": null,
   "id": "89b7739f",
   "metadata": {},
   "outputs": [],
   "source": []
  },
  {
   "cell_type": "code",
   "execution_count": null,
   "id": "c239d368",
   "metadata": {},
   "outputs": [],
   "source": []
  }
 ],
 "metadata": {
  "kernelspec": {
   "display_name": "Python 3 (ipykernel)",
   "language": "python",
   "name": "python3"
  },
  "language_info": {
   "codemirror_mode": {
    "name": "ipython",
    "version": 3
   },
   "file_extension": ".py",
   "mimetype": "text/x-python",
   "name": "python",
   "nbconvert_exporter": "python",
   "pygments_lexer": "ipython3",
   "version": "3.9.13"
  }
 },
 "nbformat": 4,
 "nbformat_minor": 5
}
